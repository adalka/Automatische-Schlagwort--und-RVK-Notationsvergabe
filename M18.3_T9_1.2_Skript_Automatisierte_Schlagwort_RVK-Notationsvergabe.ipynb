{
 "cells": [
  {
   "cell_type": "markdown",
   "metadata": {},
   "source": [
    "# Automatisierte Schlagwort- und RVK-Notationsvergabe\n",
    "## Hintergrund-Informationen\n",
    "Seit Längerem besteht der Wunsch, die Bestände einer archäologischen Spezialbibliothek systematisch aufzustellen. Man entschied sich für die [Regensburger Verbundklassifikation (RVK)](https://rvk.uni-regensburg.de/regensburger-verbundklassifikation-online) als Ordnungssystem. Da die Bibliothek nicht Mitglied in einem Verbund ist und über die vorhandene Bibliothekssoftware keine automatische Übernahme von Fremddaten, d.h. Schlagwörter und RVK-Notationen, möglich ist, muss dies auf einem alternativen Weg vonstattengehen.\n",
    "Hierfür wurde das folgende Skript erstellt, das auch anderen zur RVK umsystematisierenden Bibliotheken dabei helfen soll, Vorgänge mithilfe IT-basierter Möglichkeiten zu optimieren, um personelle und finanzielle Ressourcen zu sparen.\n",
    "\n",
    "## Projekt-Beschreibung\n",
    "In diesem Projekt wird die Schlagwort- und Notationsvergabe der RVK (Regensburger Verbundklassifikation) automatisch in einer Excel-Liste erfolgen. Grundlage für die automatische Vergabe ist u.a. eine csv-/Excel-Datei und ein webbasiertes Tool namens [Malibu](https://github.com/UB-Mannheim/malibu). Dieses ist auch im JSON-Format vorhanden.\n",
    "\n",
    "## Skript-Beschreibung\n",
    "Bei diesem Skript handelt es sich um einen Prototyp, der um beliebige Anfragen erweitert bzw. reduziert werden kann.\n",
    "Aus dem Malibu-Tool bzw. mittels [JSON-basierter Antwortdaten](https://2.python-requests.org//de/latest/user/quickstart.html) werden die in den großen deutschsprachigen Bibliotheksverbünden generierten Schlagwörter und RVK-Notationen mit den ISBN bzw. PPN des Bibliotheksbestands der LWL-Archäologie vorhandenen Titel abgeglichen und final in eine Excel-Liste gespeist:\n",
    "\n",
    "* Zunächst werden alle in der Bibliothek umzusystematisierenden Werke über einen SQL-Befehl in einer csv-Datei erfasst.\n",
    "* Diese wurde nach Spalten, z. B. Signaturen, Mediennummern, Kurztitel, Autor, Reihentitel, ISBN, neue Notation, neue Schlagwörter, neue Gesamtsignatur, und nach Signaturen aufsteigend sortiert.\n",
    "* Schließlich kommt das hier gezeigte Skript zum Einsatz, das die [ISBN](https://de.wikipedia.org/wiki/Internationale_Standardbuchnummer) bzw. später auch [PPN](https://de.wikipedia.org/wiki/OCLC_PICA#Geschichte) aus der entsprechenden Zeile in das Malibu-Tool im JSON-Format setzt.\n",
    "* Danach werden die in den Verbünden vergebenen RVK-Notationen in die Spalte \"neue Notation\" gesetzt, die Schlagwörter in die Spalte \"neue Schlagwörter\"\n",
    "* Es sollen alle Verbünde einzeln betrachtet werden können, weshalb diese hier auch einzeln dargestellt werden. Nicht für jede Bibliothek sind alle Verbünde gleichermaßen relevant.\n",
    "* Mit einer For Loop wird die Anfrage für alle 30.000 Monographien der Bibliothek durchgeführt werden.\n",
    "* Zur weiteren kollaborativen Bearbeitung (mit MS Office 365) wird eine csv- und dann eine Excel-Datei erstellt. Nicht zuletzt wegen der besseren Ansicht für die Bearbeiter_innen.\n",
    "\n",
    "## Ziel\n",
    "Die Vergabe von Schlagwörtern und Notationen soll somit automatisiert werden, um die Umsystematisierung der beteiligten Mitarbeiterinnen und Mitarbeiter zu erleichtern. RVK-Notationen und Schlagwörter könnten somit zunächst maschinell und ggfls. intellektuell erfasst werden.  "
   ]
  },
  {
   "cell_type": "markdown",
   "metadata": {},
   "source": [
    "# Skript:\n",
    "# Schritt 1\n",
    "* Vorarbeit: Ermitteln des umzusystematisierenden Bestands mit SQL-Befehl, Ausgabe: als csv-Datei  \n",
    "* sortiert nach Spalten (Signaturen, Mediennummern, Kurztitel, Autor, Reihentitel, ISBN, neue Notation, neue Schlagwörter, neue Gesamtsignatur)  \n",
    "* Signaturen numerisch aufsteigend sortieren, z. B. in diesem Fall mit zuvor geschriebenem Excel-Makro (statt P1, P10, P100 > P1, P2, P3 ...)\n",
    "* csv-Datei wird auf minimale Informationen reduziert  \n",
    "* im Folgenden wird das Skript als Prototyp für eine Liste von 15 ISBN/Titeln getestet:"
   ]
  },
  {
   "cell_type": "code",
   "execution_count": 1,
   "metadata": {},
   "outputs": [],
   "source": [
    "# pandas wird als „pd“ abgekürzt\n",
    "import urllib.request\n",
    "import pandas as pd"
   ]
  },
  {
   "cell_type": "code",
   "execution_count": 2,
   "metadata": {},
   "outputs": [],
   "source": [
    "# url stammt aus github, darin befindet sich eine Liste aus 15 Titeln mit und ohne ISBN, die probehalber getestet werden\n",
    "# so wird der Ordner benannt, der dann auch hier sichtbar wird\n",
    "url = \"https://raw.githubusercontent.com/adalka/Malis18_T9.2_Automatisierte_Schlagwort_RVK-Notationsvergabe/master/2019-07-09_P1000_sortiert_mit_ISBN_Exnr.csv\"\n",
    "apc_file = \"2019-07-09_P1000_sortiert_mit_ISBN_Exnr.csv\""
   ]
  },
  {
   "cell_type": "code",
   "execution_count": 3,
   "metadata": {},
   "outputs": [
    {
     "data": {
      "text/plain": [
       "('2019-07-09_P1000_sortiert_mit_ISBN_Exnr.csv',\n",
       " <http.client.HTTPMessage at 0x2d1c52cd470>)"
      ]
     },
     "execution_count": 3,
     "metadata": {},
     "output_type": "execute_result"
    }
   ],
   "source": [
    "# Befehl: Datei runterladen \n",
    "urllib.request.urlretrieve(url, apc_file)"
   ]
  },
  {
   "cell_type": "code",
   "execution_count": 4,
   "metadata": {},
   "outputs": [
    {
     "name": "stdout",
     "output_type": "stream",
     "text": [
      "EXEMPLARNR,ISBN\n",
      "\n",
      "1586749001,FALSE\n",
      "\n",
      "1586750001,FALSE\n",
      "\n",
      "1586751001,FALSE\n",
      "\n",
      "1586752001,FALSE\n",
      "\n",
      "1586754001,3-85460-115-8\n",
      "\n",
      "1586755001,3-85460-111-5\n",
      "\n",
      "213682005,FALSE\n",
      "\n",
      "1586757001,91-7192-927-4\n",
      "\n",
      "1586758001,3-88609-200-3\n",
      "\n",
      "1586759001,0-521-23742-4\n",
      "\n",
      "1586765001,3-496-02548-4\n",
      "\n",
      "1586768001,3-496-02550-6\n",
      "\n",
      "1586932001,FALSE\n",
      "\n",
      "503274002,3-87065-560-7\n",
      "\n",
      "1586936001,3-8053-1537-6\n",
      "\n"
     ]
    }
   ],
   "source": [
    "# csv-Datei, links Exemplarnummer aus dem Bibliothekskatalog (so wird das Werk eindeutig zuweisbar) und rechts dazugehörige ISBN, wird Zeile für Zeile ausgegeben\n",
    "for line in open(apc_file):\n",
    "    print(line)"
   ]
  },
  {
   "cell_type": "code",
   "execution_count": 5,
   "metadata": {},
   "outputs": [],
   "source": [
    "# apcs = neue Variable, pd= Pandas, read=zeigt an; nur Dateiname muss angegeben werden; Data-Frames werden generiert\n",
    "apcs = pd.read_csv(apc_file)"
   ]
  },
  {
   "cell_type": "code",
   "execution_count": 6,
   "metadata": {},
   "outputs": [
    {
     "name": "stdout",
     "output_type": "stream",
     "text": [
      "    EXEMPLARNR           ISBN\n",
      "0   1586749001          FALSE\n",
      "1   1586750001          FALSE\n",
      "2   1586751001          FALSE\n",
      "3   1586752001          FALSE\n",
      "4   1586754001  3-85460-115-8\n",
      "5   1586755001  3-85460-111-5\n",
      "6    213682005          FALSE\n",
      "7   1586757001  91-7192-927-4\n",
      "8   1586758001  3-88609-200-3\n",
      "9   1586759001  0-521-23742-4\n",
      "10  1586765001  3-496-02548-4\n",
      "11  1586768001  3-496-02550-6\n",
      "12  1586932001          FALSE\n",
      "13   503274002  3-87065-560-7\n",
      "14  1586936001  3-8053-1537-6\n"
     ]
    },
    {
     "data": {
      "text/html": [
       "<div>\n",
       "<style scoped>\n",
       "    .dataframe tbody tr th:only-of-type {\n",
       "        vertical-align: middle;\n",
       "    }\n",
       "\n",
       "    .dataframe tbody tr th {\n",
       "        vertical-align: top;\n",
       "    }\n",
       "\n",
       "    .dataframe thead th {\n",
       "        text-align: right;\n",
       "    }\n",
       "</style>\n",
       "<table border=\"1\" class=\"dataframe\">\n",
       "  <thead>\n",
       "    <tr style=\"text-align: right;\">\n",
       "      <th></th>\n",
       "      <th>EXEMPLARNR</th>\n",
       "      <th>ISBN</th>\n",
       "    </tr>\n",
       "  </thead>\n",
       "  <tbody>\n",
       "    <tr>\n",
       "      <th>0</th>\n",
       "      <td>1586749001</td>\n",
       "      <td>FALSE</td>\n",
       "    </tr>\n",
       "    <tr>\n",
       "      <th>1</th>\n",
       "      <td>1586750001</td>\n",
       "      <td>FALSE</td>\n",
       "    </tr>\n",
       "    <tr>\n",
       "      <th>2</th>\n",
       "      <td>1586751001</td>\n",
       "      <td>FALSE</td>\n",
       "    </tr>\n",
       "    <tr>\n",
       "      <th>3</th>\n",
       "      <td>1586752001</td>\n",
       "      <td>FALSE</td>\n",
       "    </tr>\n",
       "    <tr>\n",
       "      <th>4</th>\n",
       "      <td>1586754001</td>\n",
       "      <td>3-85460-115-8</td>\n",
       "    </tr>\n",
       "  </tbody>\n",
       "</table>\n",
       "</div>"
      ],
      "text/plain": [
       "   EXEMPLARNR           ISBN\n",
       "0  1586749001          FALSE\n",
       "1  1586750001          FALSE\n",
       "2  1586751001          FALSE\n",
       "3  1586752001          FALSE\n",
       "4  1586754001  3-85460-115-8"
      ]
     },
     "execution_count": 6,
     "metadata": {},
     "output_type": "execute_result"
    }
   ],
   "source": [
    "# print = zeigt alles an\n",
    "print(apcs)\n",
    "apcs.head()"
   ]
  },
  {
   "cell_type": "code",
   "execution_count": 7,
   "metadata": {},
   "outputs": [
    {
     "data": {
      "text/html": [
       "<div>\n",
       "<style scoped>\n",
       "    .dataframe tbody tr th:only-of-type {\n",
       "        vertical-align: middle;\n",
       "    }\n",
       "\n",
       "    .dataframe tbody tr th {\n",
       "        vertical-align: top;\n",
       "    }\n",
       "\n",
       "    .dataframe thead th {\n",
       "        text-align: right;\n",
       "    }\n",
       "</style>\n",
       "<table border=\"1\" class=\"dataframe\">\n",
       "  <thead>\n",
       "    <tr style=\"text-align: right;\">\n",
       "      <th></th>\n",
       "      <th>EXEMPLARNR</th>\n",
       "      <th>ISBN</th>\n",
       "    </tr>\n",
       "  </thead>\n",
       "  <tbody>\n",
       "    <tr>\n",
       "      <th>0</th>\n",
       "      <td>1586749001</td>\n",
       "      <td>FALSE</td>\n",
       "    </tr>\n",
       "    <tr>\n",
       "      <th>1</th>\n",
       "      <td>1586750001</td>\n",
       "      <td>FALSE</td>\n",
       "    </tr>\n",
       "    <tr>\n",
       "      <th>2</th>\n",
       "      <td>1586751001</td>\n",
       "      <td>FALSE</td>\n",
       "    </tr>\n",
       "    <tr>\n",
       "      <th>3</th>\n",
       "      <td>1586752001</td>\n",
       "      <td>FALSE</td>\n",
       "    </tr>\n",
       "    <tr>\n",
       "      <th>4</th>\n",
       "      <td>1586754001</td>\n",
       "      <td>3-85460-115-8</td>\n",
       "    </tr>\n",
       "  </tbody>\n",
       "</table>\n",
       "</div>"
      ],
      "text/plain": [
       "   EXEMPLARNR           ISBN\n",
       "0  1586749001          FALSE\n",
       "1  1586750001          FALSE\n",
       "2  1586751001          FALSE\n",
       "3  1586752001          FALSE\n",
       "4  1586754001  3-85460-115-8"
      ]
     },
     "execution_count": 7,
     "metadata": {},
     "output_type": "execute_result"
    }
   ],
   "source": [
    "apcs\n",
    "apcs.head()"
   ]
  },
  {
   "cell_type": "code",
   "execution_count": 8,
   "metadata": {},
   "outputs": [
    {
     "data": {
      "text/html": [
       "<div>\n",
       "<style scoped>\n",
       "    .dataframe tbody tr th:only-of-type {\n",
       "        vertical-align: middle;\n",
       "    }\n",
       "\n",
       "    .dataframe tbody tr th {\n",
       "        vertical-align: top;\n",
       "    }\n",
       "\n",
       "    .dataframe thead th {\n",
       "        text-align: right;\n",
       "    }\n",
       "</style>\n",
       "<table border=\"1\" class=\"dataframe\">\n",
       "  <thead>\n",
       "    <tr style=\"text-align: right;\">\n",
       "      <th></th>\n",
       "      <th>EXEMPLARNR</th>\n",
       "      <th>ISBN</th>\n",
       "    </tr>\n",
       "  </thead>\n",
       "  <tbody>\n",
       "    <tr>\n",
       "      <th>0</th>\n",
       "      <td>1586749001</td>\n",
       "      <td>FALSE</td>\n",
       "    </tr>\n",
       "    <tr>\n",
       "      <th>1</th>\n",
       "      <td>1586750001</td>\n",
       "      <td>FALSE</td>\n",
       "    </tr>\n",
       "    <tr>\n",
       "      <th>2</th>\n",
       "      <td>1586751001</td>\n",
       "      <td>FALSE</td>\n",
       "    </tr>\n",
       "    <tr>\n",
       "      <th>3</th>\n",
       "      <td>1586752001</td>\n",
       "      <td>FALSE</td>\n",
       "    </tr>\n",
       "    <tr>\n",
       "      <th>4</th>\n",
       "      <td>1586754001</td>\n",
       "      <td>3-85460-115-8</td>\n",
       "    </tr>\n",
       "  </tbody>\n",
       "</table>\n",
       "</div>"
      ],
      "text/plain": [
       "   EXEMPLARNR           ISBN\n",
       "0  1586749001          FALSE\n",
       "1  1586750001          FALSE\n",
       "2  1586751001          FALSE\n",
       "3  1586752001          FALSE\n",
       "4  1586754001  3-85460-115-8"
      ]
     },
     "execution_count": 8,
     "metadata": {},
     "output_type": "execute_result"
    }
   ],
   "source": [
    "# Spalten sollen angezeigt werden\n",
    "apcs.columns\n",
    "apcs.head()"
   ]
  },
  {
   "cell_type": "code",
   "execution_count": 9,
   "metadata": {},
   "outputs": [
    {
     "data": {
      "text/html": [
       "<div>\n",
       "<style scoped>\n",
       "    .dataframe tbody tr th:only-of-type {\n",
       "        vertical-align: middle;\n",
       "    }\n",
       "\n",
       "    .dataframe tbody tr th {\n",
       "        vertical-align: top;\n",
       "    }\n",
       "\n",
       "    .dataframe thead th {\n",
       "        text-align: right;\n",
       "    }\n",
       "</style>\n",
       "<table border=\"1\" class=\"dataframe\">\n",
       "  <thead>\n",
       "    <tr style=\"text-align: right;\">\n",
       "      <th></th>\n",
       "      <th>EXEMPLARNR</th>\n",
       "      <th>ISBN</th>\n",
       "    </tr>\n",
       "  </thead>\n",
       "  <tbody>\n",
       "    <tr>\n",
       "      <th>0</th>\n",
       "      <td>1586749001</td>\n",
       "      <td>FALSE</td>\n",
       "    </tr>\n",
       "    <tr>\n",
       "      <th>1</th>\n",
       "      <td>1586750001</td>\n",
       "      <td>FALSE</td>\n",
       "    </tr>\n",
       "    <tr>\n",
       "      <th>2</th>\n",
       "      <td>1586751001</td>\n",
       "      <td>FALSE</td>\n",
       "    </tr>\n",
       "    <tr>\n",
       "      <th>3</th>\n",
       "      <td>1586752001</td>\n",
       "      <td>FALSE</td>\n",
       "    </tr>\n",
       "    <tr>\n",
       "      <th>4</th>\n",
       "      <td>1586754001</td>\n",
       "      <td>3-85460-115-8</td>\n",
       "    </tr>\n",
       "  </tbody>\n",
       "</table>\n",
       "</div>"
      ],
      "text/plain": [
       "   EXEMPLARNR           ISBN\n",
       "0  1586749001          FALSE\n",
       "1  1586750001          FALSE\n",
       "2  1586751001          FALSE\n",
       "3  1586752001          FALSE\n",
       "4  1586754001  3-85460-115-8"
      ]
     },
     "execution_count": 9,
     "metadata": {},
     "output_type": "execute_result"
    }
   ],
   "source": [
    "# nur ISBN sollen gezeigt werden\n",
    "apcs.ISBN\n",
    "apcs.head()"
   ]
  },
  {
   "cell_type": "code",
   "execution_count": 10,
   "metadata": {},
   "outputs": [
    {
     "name": "stdout",
     "output_type": "stream",
     "text": [
      "http://data.bib.uni-mannheim.de/malibu/isbn/gbv.php?isbn=ISBN&format=json\n",
      "http://data.bib.uni-mannheim.de/malibu/isbn/gbv.php?isbn=FALSE&format=json\n",
      "http://data.bib.uni-mannheim.de/malibu/isbn/gbv.php?isbn=FALSE&format=json\n",
      "http://data.bib.uni-mannheim.de/malibu/isbn/gbv.php?isbn=FALSE&format=json\n",
      "http://data.bib.uni-mannheim.de/malibu/isbn/gbv.php?isbn=FALSE&format=json\n",
      "http://data.bib.uni-mannheim.de/malibu/isbn/gbv.php?isbn=3-85460-115-8&format=json\n",
      "http://data.bib.uni-mannheim.de/malibu/isbn/gbv.php?isbn=3-85460-111-5&format=json\n",
      "http://data.bib.uni-mannheim.de/malibu/isbn/gbv.php?isbn=FALSE&format=json\n",
      "http://data.bib.uni-mannheim.de/malibu/isbn/gbv.php?isbn=91-7192-927-4&format=json\n",
      "http://data.bib.uni-mannheim.de/malibu/isbn/gbv.php?isbn=3-88609-200-3&format=json\n",
      "http://data.bib.uni-mannheim.de/malibu/isbn/gbv.php?isbn=0-521-23742-4&format=json\n",
      "http://data.bib.uni-mannheim.de/malibu/isbn/gbv.php?isbn=3-496-02548-4&format=json\n",
      "http://data.bib.uni-mannheim.de/malibu/isbn/gbv.php?isbn=3-496-02550-6&format=json\n",
      "http://data.bib.uni-mannheim.de/malibu/isbn/gbv.php?isbn=FALSE&format=json\n",
      "http://data.bib.uni-mannheim.de/malibu/isbn/gbv.php?isbn=3-87065-560-7&format=json\n",
      "http://data.bib.uni-mannheim.de/malibu/isbn/gbv.php?isbn=3-8053-1537-6&format=json\n"
     ]
    }
   ],
   "source": [
    "import csv\n",
    "with open('2019-07-09_P1000_sortiert_mit_ISBN_Exnr.csv', newline='') as f:    \n",
    "    reader = csv.reader(f)\n",
    "    for row in reader:\n",
    "        url = \"http://data.bib.uni-mannheim.de/malibu/isbn/gbv.php?isbn=\" + str(row[1]) + \"&format=json\"  \n",
    "        print(url)"
   ]
  },
  {
   "cell_type": "markdown",
   "metadata": {},
   "source": [
    "# SWB\n",
    "(Südwestdeutscher Bibliotheksverbund)  \n",
    "Nun auch für den SWB (Südwestdeutscher Bibliotheksverbund Baden-Württemberg, Saarland, Sachsen) durchführen mithilfe von http://data.bib.uni-mannheim.de/malibu/isbn/swb.php?isbn= &format=json:"
   ]
  },
  {
   "cell_type": "code",
   "execution_count": 11,
   "metadata": {},
   "outputs": [
    {
     "name": "stdout",
     "output_type": "stream",
     "text": [
      "http://data.bib.uni-mannheim.de/malibu/isbn/swb.php?isbn=ISBN&format=json\n",
      "http://data.bib.uni-mannheim.de/malibu/isbn/swb.php?isbn=FALSE&format=json\n",
      "http://data.bib.uni-mannheim.de/malibu/isbn/swb.php?isbn=FALSE&format=json\n",
      "http://data.bib.uni-mannheim.de/malibu/isbn/swb.php?isbn=FALSE&format=json\n",
      "http://data.bib.uni-mannheim.de/malibu/isbn/swb.php?isbn=FALSE&format=json\n",
      "http://data.bib.uni-mannheim.de/malibu/isbn/swb.php?isbn=3-85460-115-8&format=json\n",
      "http://data.bib.uni-mannheim.de/malibu/isbn/swb.php?isbn=3-85460-111-5&format=json\n",
      "http://data.bib.uni-mannheim.de/malibu/isbn/swb.php?isbn=FALSE&format=json\n",
      "http://data.bib.uni-mannheim.de/malibu/isbn/swb.php?isbn=91-7192-927-4&format=json\n",
      "http://data.bib.uni-mannheim.de/malibu/isbn/swb.php?isbn=3-88609-200-3&format=json\n",
      "http://data.bib.uni-mannheim.de/malibu/isbn/swb.php?isbn=0-521-23742-4&format=json\n",
      "http://data.bib.uni-mannheim.de/malibu/isbn/swb.php?isbn=3-496-02548-4&format=json\n",
      "http://data.bib.uni-mannheim.de/malibu/isbn/swb.php?isbn=3-496-02550-6&format=json\n",
      "http://data.bib.uni-mannheim.de/malibu/isbn/swb.php?isbn=FALSE&format=json\n",
      "http://data.bib.uni-mannheim.de/malibu/isbn/swb.php?isbn=3-87065-560-7&format=json\n",
      "http://data.bib.uni-mannheim.de/malibu/isbn/swb.php?isbn=3-8053-1537-6&format=json\n"
     ]
    }
   ],
   "source": [
    "import csv\n",
    "with open('2019-07-09_P1000_sortiert_mit_ISBN_Exnr.csv', newline='') as f:    \n",
    "    reader = csv.reader(f)\n",
    "    for row in reader:\n",
    "        url = \"http://data.bib.uni-mannheim.de/malibu/isbn/swb.php?isbn=\" + str(row[1]) + \"&format=json\"  \n",
    "        print(url)"
   ]
  },
  {
   "cell_type": "markdown",
   "metadata": {},
   "source": [
    "# B3Kat\n",
    "(gemeinsame Katalogisierungsplattform der Bibliotheksverbünde BVB und KOBV)  \n",
    "Nun auch für den B3Kat durchführen mithilfe von http://data.bib.uni-mannheim.de/malibu/isbn/b3kat.php?isbn= &format=json:"
   ]
  },
  {
   "cell_type": "code",
   "execution_count": 12,
   "metadata": {},
   "outputs": [
    {
     "name": "stdout",
     "output_type": "stream",
     "text": [
      "http://data.bib.uni-mannheim.de/malibu/isbn/b3kat.php?isbn=ISBN&format=json\n",
      "http://data.bib.uni-mannheim.de/malibu/isbn/b3kat.php?isbn=FALSE&format=json\n",
      "http://data.bib.uni-mannheim.de/malibu/isbn/b3kat.php?isbn=FALSE&format=json\n",
      "http://data.bib.uni-mannheim.de/malibu/isbn/b3kat.php?isbn=FALSE&format=json\n",
      "http://data.bib.uni-mannheim.de/malibu/isbn/b3kat.php?isbn=FALSE&format=json\n",
      "http://data.bib.uni-mannheim.de/malibu/isbn/b3kat.php?isbn=3-85460-115-8&format=json\n",
      "http://data.bib.uni-mannheim.de/malibu/isbn/b3kat.php?isbn=3-85460-111-5&format=json\n",
      "http://data.bib.uni-mannheim.de/malibu/isbn/b3kat.php?isbn=FALSE&format=json\n",
      "http://data.bib.uni-mannheim.de/malibu/isbn/b3kat.php?isbn=91-7192-927-4&format=json\n",
      "http://data.bib.uni-mannheim.de/malibu/isbn/b3kat.php?isbn=3-88609-200-3&format=json\n",
      "http://data.bib.uni-mannheim.de/malibu/isbn/b3kat.php?isbn=0-521-23742-4&format=json\n",
      "http://data.bib.uni-mannheim.de/malibu/isbn/b3kat.php?isbn=3-496-02548-4&format=json\n",
      "http://data.bib.uni-mannheim.de/malibu/isbn/b3kat.php?isbn=3-496-02550-6&format=json\n",
      "http://data.bib.uni-mannheim.de/malibu/isbn/b3kat.php?isbn=FALSE&format=json\n",
      "http://data.bib.uni-mannheim.de/malibu/isbn/b3kat.php?isbn=3-87065-560-7&format=json\n",
      "http://data.bib.uni-mannheim.de/malibu/isbn/b3kat.php?isbn=3-8053-1537-6&format=json\n"
     ]
    }
   ],
   "source": [
    "import csv\n",
    "with open('2019-07-09_P1000_sortiert_mit_ISBN_Exnr.csv', newline='') as f:    \n",
    "    reader = csv.reader(f)\n",
    "    for row in reader:\n",
    "        url = \"http://data.bib.uni-mannheim.de/malibu/isbn/b3kat.php?isbn=\" + str(row[1]) + \"&format=json\"  \n",
    "        print(url)"
   ]
  },
  {
   "cell_type": "markdown",
   "metadata": {},
   "source": [
    "# HeBIS\n",
    "(Hessisches BibliotheksInformationsSystem)  \n",
    "Nun auch für den HeBIS durchführen mithilfe von http://data.bib.uni-mannheim.de/malibu/isbn/hebis.php?isbn= &format=json:"
   ]
  },
  {
   "cell_type": "code",
   "execution_count": 13,
   "metadata": {},
   "outputs": [
    {
     "name": "stdout",
     "output_type": "stream",
     "text": [
      "http://data.bib.uni-mannheim.de/malibu/isbn/hebis.php?isbn=ISBN&format=json\n",
      "http://data.bib.uni-mannheim.de/malibu/isbn/hebis.php?isbn=FALSE&format=json\n",
      "http://data.bib.uni-mannheim.de/malibu/isbn/hebis.php?isbn=FALSE&format=json\n",
      "http://data.bib.uni-mannheim.de/malibu/isbn/hebis.php?isbn=FALSE&format=json\n",
      "http://data.bib.uni-mannheim.de/malibu/isbn/hebis.php?isbn=FALSE&format=json\n",
      "http://data.bib.uni-mannheim.de/malibu/isbn/hebis.php?isbn=3-85460-115-8&format=json\n",
      "http://data.bib.uni-mannheim.de/malibu/isbn/hebis.php?isbn=3-85460-111-5&format=json\n",
      "http://data.bib.uni-mannheim.de/malibu/isbn/hebis.php?isbn=FALSE&format=json\n",
      "http://data.bib.uni-mannheim.de/malibu/isbn/hebis.php?isbn=91-7192-927-4&format=json\n",
      "http://data.bib.uni-mannheim.de/malibu/isbn/hebis.php?isbn=3-88609-200-3&format=json\n",
      "http://data.bib.uni-mannheim.de/malibu/isbn/hebis.php?isbn=0-521-23742-4&format=json\n",
      "http://data.bib.uni-mannheim.de/malibu/isbn/hebis.php?isbn=3-496-02548-4&format=json\n",
      "http://data.bib.uni-mannheim.de/malibu/isbn/hebis.php?isbn=3-496-02550-6&format=json\n",
      "http://data.bib.uni-mannheim.de/malibu/isbn/hebis.php?isbn=FALSE&format=json\n",
      "http://data.bib.uni-mannheim.de/malibu/isbn/hebis.php?isbn=3-87065-560-7&format=json\n",
      "http://data.bib.uni-mannheim.de/malibu/isbn/hebis.php?isbn=3-8053-1537-6&format=json\n"
     ]
    }
   ],
   "source": [
    "import csv\n",
    "with open('2019-07-09_P1000_sortiert_mit_ISBN_Exnr.csv', newline='') as f:    \n",
    "    reader = csv.reader(f)\n",
    "    for row in reader:\n",
    "        url = \"http://data.bib.uni-mannheim.de/malibu/isbn/hebis.php?isbn=\" + str(row[1]) + \"&format=json\"  \n",
    "        print(url)"
   ]
  },
  {
   "cell_type": "markdown",
   "metadata": {},
   "source": [
    "# HBZ \n",
    "(Hochschulbibliothekszentrum NRW)  \n",
    "Nun auch für das hbz durchführen mithilfe von http://data.bib.uni-mannheim.de/malibu/isbn/hbz.php?isbn= &format=json:"
   ]
  },
  {
   "cell_type": "code",
   "execution_count": 14,
   "metadata": {},
   "outputs": [
    {
     "name": "stdout",
     "output_type": "stream",
     "text": [
      "http://data.bib.uni-mannheim.de/malibu/isbn/hbz.php?isbn=ISBN&format=json\n",
      "http://data.bib.uni-mannheim.de/malibu/isbn/hbz.php?isbn=FALSE&format=json\n",
      "http://data.bib.uni-mannheim.de/malibu/isbn/hbz.php?isbn=FALSE&format=json\n",
      "http://data.bib.uni-mannheim.de/malibu/isbn/hbz.php?isbn=FALSE&format=json\n",
      "http://data.bib.uni-mannheim.de/malibu/isbn/hbz.php?isbn=FALSE&format=json\n",
      "http://data.bib.uni-mannheim.de/malibu/isbn/hbz.php?isbn=3-85460-115-8&format=json\n",
      "http://data.bib.uni-mannheim.de/malibu/isbn/hbz.php?isbn=3-85460-111-5&format=json\n",
      "http://data.bib.uni-mannheim.de/malibu/isbn/hbz.php?isbn=FALSE&format=json\n",
      "http://data.bib.uni-mannheim.de/malibu/isbn/hbz.php?isbn=91-7192-927-4&format=json\n",
      "http://data.bib.uni-mannheim.de/malibu/isbn/hbz.php?isbn=3-88609-200-3&format=json\n",
      "http://data.bib.uni-mannheim.de/malibu/isbn/hbz.php?isbn=0-521-23742-4&format=json\n",
      "http://data.bib.uni-mannheim.de/malibu/isbn/hbz.php?isbn=3-496-02548-4&format=json\n",
      "http://data.bib.uni-mannheim.de/malibu/isbn/hbz.php?isbn=3-496-02550-6&format=json\n",
      "http://data.bib.uni-mannheim.de/malibu/isbn/hbz.php?isbn=FALSE&format=json\n",
      "http://data.bib.uni-mannheim.de/malibu/isbn/hbz.php?isbn=3-87065-560-7&format=json\n",
      "http://data.bib.uni-mannheim.de/malibu/isbn/hbz.php?isbn=3-8053-1537-6&format=json\n"
     ]
    }
   ],
   "source": [
    "import csv\n",
    "with open('2019-07-09_P1000_sortiert_mit_ISBN_Exnr.csv', newline='') as f:    \n",
    "    reader = csv.reader(f)\n",
    "    for row in reader:\n",
    "        url = \"http://data.bib.uni-mannheim.de/malibu/isbn/hbz.php?isbn=\" + str(row[1]) + \"&format=json\"  \n",
    "        print(url)"
   ]
  },
  {
   "cell_type": "markdown",
   "metadata": {},
   "source": [
    "# Schritt 2: Werte aus URL in JSON beziehen\n",
    "- RVK-Notationen können importiert werden  \n",
    "    z.B. über =ImportJSON(\"http://data.bib.uni-mannheim.de/malibu/isbn/swb.php?isbn=\"ISBN\"&format=json\"; \"/rvk\"; \"noHeaders\")    \n",
    "- Befehl ausführen: JSON-basierte Antwortdaten (s. https://2.python-requests.org//de/latest/user/quickstart.html)  "
   ]
  },
  {
   "cell_type": "code",
   "execution_count": 15,
   "metadata": {},
   "outputs": [
    {
     "data": {
      "text/plain": [
       "{'id': ['TT001296749'],\n",
       " 'isbn': ['3854601158'],\n",
       " 'dnbNr': '',\n",
       " 'titel': ['Sie sahen die Mauern Trojas'],\n",
       " 'untertitel': ['Kunstgewerbe der Bronzezeit in Südostungarn ; Sonderausstellung im Museum für Urgeschichte, Aspern, Zaya ; 1. April - 15. November 1994'],\n",
       " 'autor': ['Otto Trogmayer ... [Hrsg.]'],\n",
       " 'gesamttitel': ['Katalog des Niederösterreichischen Landesmuseums / Niederösterreichisches Landesmuseum <Wien> ; N.F., 348'],\n",
       " 'hochschulvermerk': '',\n",
       " 'auflage': '',\n",
       " 'erscheinungsinfo': ['[Wien]', '1994'],\n",
       " 'umfang': ['34 S. : Ill.'],\n",
       " 'links': '',\n",
       " 'bestand': ['107', '294/11', '38/426'],\n",
       " 'rvk': ['NF 3270'],\n",
       " 'ddc': '',\n",
       " 'sw': {'Ungarn <Südost>': '4489379-6',\n",
       "  'Bronzezeit': '4008357-3',\n",
       "  'Kunsthandwerk': '4073883-8',\n",
       "  'Ausstellung': '4129601-1',\n",
       "  'Asparn <Zaya, 1994>': True},\n",
       " 'produktSigel': '',\n",
       " 'einzelaufnahmen': [{'id': ['TT001296749'],\n",
       "   'isbn': ['3854601158'],\n",
       "   'dnbNr': '',\n",
       "   'titel': ['Sie sahen die Mauern Trojas'],\n",
       "   'untertitel': ['Kunstgewerbe der Bronzezeit in Südostungarn ; Sonderausstellung im Museum für Urgeschichte, Aspern, Zaya ; 1. April - 15. November 1994'],\n",
       "   'autor': ['Otto Trogmayer ... [Hrsg.]'],\n",
       "   'gesamttitel': ['Katalog des Niederösterreichischen Landesmuseums / Niederösterreichisches Landesmuseum <Wien> ; N.F., 348'],\n",
       "   'hochschulvermerk': '',\n",
       "   'auflage': '',\n",
       "   'erscheinungsinfo': ['[Wien]', '1994'],\n",
       "   'umfang': ['34 S. : Ill.'],\n",
       "   'links': '',\n",
       "   'bestand': ['107', '294/11', '38/426'],\n",
       "   'rvk': ['NF 3270'],\n",
       "   'ddc': '',\n",
       "   'sw': {'Ungarn <Südost>': '4489379-6',\n",
       "    'Bronzezeit': '4008357-3',\n",
       "    'Kunsthandwerk': '4073883-8',\n",
       "    'Ausstellung': '4129601-1',\n",
       "    'Asparn <Zaya, 1994>': True},\n",
       "   'produktSigel': ''}]}"
      ]
     },
     "execution_count": 15,
     "metadata": {},
     "output_type": "execute_result"
    }
   ],
   "source": [
    "# http-Anforderung senden, um request-Modul zu importieren\n",
    "# r = response, wir bekommen ein object response im JSON-Format (s. https://2.python-requests.org//de/latest/user/quickstart.html)\n",
    "# dies wird nun mit der ersten in der Liste stehenden ISBN beispielhaft getestet:\n",
    "\n",
    "import requests\n",
    "r = requests.get('http://data.bib.uni-mannheim.de/malibu/isbn/hbz.php?isbn=3-85460-115-8&format=json')\n",
    "r.json()"
   ]
  },
  {
   "cell_type": "code",
   "execution_count": 16,
   "metadata": {},
   "outputs": [
    {
     "name": "stdout",
     "output_type": "stream",
     "text": [
      "NF 3270\n"
     ]
    }
   ],
   "source": [
    "# Das vorige Ergebnis zeigt alle Exemplar-relevanten Informationen. \n",
    "# Unter \"rvk\" verbirgt sich die RVK-Notation, die in dem ausgewählten Verbund (in diesem Fall HBZ) vergeben wurde. \n",
    "# Unter \"sw\" befinden sich Schlagwörter.\n",
    "# Wie lautet die RVK-Notation für einen bestimmten String? (s. https://www.w3schools.com/python/python_json.asp)\n",
    "# Bilden von Variablen (x= RVK+Notation, y= Notation)\n",
    "\n",
    "import json\n",
    "x = '{ \"rvk\":\"NF 3270\"}'\n",
    "y = json.loads(x)\n",
    "print(y[\"rvk\"])"
   ]
  },
  {
   "cell_type": "code",
   "execution_count": 17,
   "metadata": {},
   "outputs": [],
   "source": [
    "# Weiter oben wurde die ISBN testweise händisch eingegeben.  \n",
    "# So sieht der Befehl mit einem string aus (vgl. https://automatetheboringstuff.com/chapter6/):\n",
    "url = \"http://data.bib.uni-mannheim.de/malibu/isbn/gbv.php?isbn=\" \n",
    "isbn = str(row[1])\n",
    "end = \"&format=json\""
   ]
  },
  {
   "cell_type": "code",
   "execution_count": 18,
   "metadata": {},
   "outputs": [
    {
     "name": "stdout",
     "output_type": "stream",
     "text": [
      "http://data.bib.uni-mannheim.de/malibu/isbn/gbv.php?isbn=/3-8053-1537-6/&format=json\n"
     ]
    }
   ],
   "source": [
    "print(\"{}/{}/{}\".format(url, isbn, end))"
   ]
  },
  {
   "cell_type": "code",
   "execution_count": 19,
   "metadata": {},
   "outputs": [
    {
     "data": {
      "text/plain": [
       "'http://data.bib.uni-mannheim.de/malibu/isbn/gbv.php?isbn=/3-8053-1537-6/&format=json'"
      ]
     },
     "execution_count": 19,
     "metadata": {},
     "output_type": "execute_result"
    }
   ],
   "source": [
    "f\"{url}/{isbn}/{end}\""
   ]
  },
  {
   "cell_type": "markdown",
   "metadata": {},
   "source": [
    "# Schritt 3:\n",
    "Alle RVK-Notationen für alle ISBN in allen Verbünden in eine csv-Datei exportieren und nicht benötigte Werte ignorieren.  \n",
    "    "
   ]
  },
  {
   "cell_type": "code",
   "execution_count": 20,
   "metadata": {},
   "outputs": [],
   "source": [
    "import json \n",
    "import pandas"
   ]
  },
  {
   "cell_type": "code",
   "execution_count": 21,
   "metadata": {},
   "outputs": [],
   "source": [
    "data= [{\"id\": \"\", \"isbn\": \"\", \"dnbNr\": \"\", \"oclcNr\": \"\", \"titel\": \"\", \"untertitel\": \"\", \"autor\": \"\", \"gesamttitel\": \"\",     \"hochschulvermerk\": \"\",\n",
    "    \"auflage\": \"\", \"erscheinungsinfo\": \"\", \"umfang\": \"\", \"links\": \"\", \"bestand\": \"\", \"rvk\": \"\", \"ddc\": \"\", \"sw\": [], \"produktSigel\": \"\",\n",
    "    \"einzelaufnahmen\": \"\"}]"
   ]
  },
  {
   "cell_type": "code",
   "execution_count": 22,
   "metadata": {},
   "outputs": [],
   "source": [
    "pandas.read_json(json.dumps(data)).to_csv('pandas.csv')"
   ]
  },
  {
   "cell_type": "code",
   "execution_count": 23,
   "metadata": {},
   "outputs": [
    {
     "name": "stdout",
     "output_type": "stream",
     "text": [
      ",auflage,autor,bestand,ddc,dnbNr,einzelaufnahmen,erscheinungsinfo,gesamttitel,hochschulvermerk,id,isbn,links,oclcNr,produktSigel,rvk,sw,titel,umfang,untertitel\n",
      "0,,,,,,,,,,,,,,,,[],,,\n",
      "\n"
     ]
    }
   ],
   "source": [
    "with open('pandas.csv') as f:\n",
    "...     print(f.read())"
   ]
  },
  {
   "cell_type": "markdown",
   "metadata": {},
   "source": [
    "# Schritt 4:\n",
    "Dies für alle JSON-Strings (mit allen ISBN und den jeweils vergebenen RVK-Notationen für alle Verbünde) durchführen.\n",
    "Mögliches Vorgehen:  \n",
    "* Wie ist eine RVK-Notation aufgebaut? Wie viele Zeichen hat eine RVK-Notation? \n",
    "* Sie setzt sich aus 1) aus 2 Buchstaben zusammen; 2) einem Leerzeichen; 3) es folgen zwischen 3 und 5 Ziffern\n",
    "* Hierfür könnte mit einem regulären Ausdruck gearbeitet werden:  \n",
    "* 1) 2 Buchstaben zwisch a bis z [a-z], 2) Leerzeichen wie Tab, Space, ... \\s und 3) 3 bis 5 Zahlen von 0-9: \\d, [0-9]\n",
    "* Die Zahl, die an letzter Stelle steht, ist mindestens 3-stellig und höchstens 5-stellig: {m, n} Der Ausdruck kommt mindestens m-mal, höchstens n-mal vor; z. B. \\w{3, 5} (vgl. https://docs.python.org/2/library/re.html)"
   ]
  },
  {
   "cell_type": "code",
   "execution_count": 24,
   "metadata": {},
   "outputs": [],
   "source": [
    "# regulären Ausdruck importieren\n",
    "import re"
   ]
  },
  {
   "cell_type": "code",
   "execution_count": 25,
   "metadata": {},
   "outputs": [],
   "source": [
    "# an dieser Stelle endet der Prototyp vorerst, wird jedoch weitergepflegt"
   ]
  }
 ],
 "metadata": {
  "kernelspec": {
   "display_name": "Python 3",
   "language": "python",
   "name": "python3"
  },
  "language_info": {
   "codemirror_mode": {
    "name": "ipython",
    "version": 3
   },
   "file_extension": ".py",
   "mimetype": "text/x-python",
   "name": "python",
   "nbconvert_exporter": "python",
   "pygments_lexer": "ipython3",
   "version": "3.7.3"
  }
 },
 "nbformat": 4,
 "nbformat_minor": 2
}
