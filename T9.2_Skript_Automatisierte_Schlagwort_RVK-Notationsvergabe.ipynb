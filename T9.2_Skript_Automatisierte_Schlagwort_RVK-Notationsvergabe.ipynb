{
 "cells": [
  {
   "cell_type": "markdown",
   "metadata": {},
   "source": [
    "# Automatisierte Schlagwort- und RVK-Notationsvergabe\n",
    "## Projekt: Umsystematisierung der Bibliotheksbestände einer archäologischen Spezialbibliothek\n",
    "Seit Längerem besteht der Wunsch, die Bestände der archäologischen Spezialbibliothek systematisch aufzustellen. Man entschied sich für die Regensburger Verbundklassifikation (RVK) als Ordnungssystem. Da die Bibliothek nicht Mitglied in einem Verbund ist und über die vorhandene Bibliothekssoftware keine automatische Übernahme von Fremddaten, d.h. Schlagwörter und RVK-Notationen, möglich ist, muss dies auf einem alternativen Weg vonstattengehen.\n",
    "\n",
    "## Einführung\n",
    "In diesem Projekt soll versucht werden, die Schlagwort- und Notationsvergabe der RVK (Regensburger Verbundklassifikation) automatisch in einer Excel-Liste erfolgen zu lassen. Grundlage für die automatische Vergabe ist u.a. eine csv-/Excel-Datei und ein webbasiertes Tool namens Malibu. Dieses ist auch im JSON-Format vorhanden.\n",
    "\n",
    "## Möglicher Projektablauf\n",
    "Aus diesem Tool bzw. mittels JSON-basierter Antwortdaten[^1] werden die in den großen deutschsprachigen Bibliotheksverbünden generierten Schlagwörter und RVK-Notationen mit den ISBN bzw. PPN des Bibliotheksbestands der LWL-Archäologie vorhandenen Titel abgeglichen und im Anschluss in eine Excel-Liste gespeist:\n",
    "\n",
    "* Zunächst werden alle in der Bibliothek umzusystematisierenden Werke über einen SQL-Befehl in einer csv-Datei erfasst. Diese wurde nach Spalten (Signaturen, Mediennummern, Kurztitel, Autor, Reihentitel, ISBN, neue Notation, neue Schlagwörter, neue Gesamtsignatur) und nach Signaturen aufsteigend sortiert.\n",
    "* Schließlich kommt das hier gezeigte Skript zum Einsatz, das die ISBN bzw. später auch PPN aus der entsprechenden Zeile in das Malibu-Tool im JSON-Format setzt.\n",
    "* Danach werden die in den Verbünden vergebenen RVK-Notationen in die Spalte \"neue Notation\" gesetzt, die Schlagwörter in die Spalte \"neue Schlagwörter\". Es sollen alle Verbünde einzeln betrachtet werden können, weshalb diese hier auch einzeln dargestellt werden.\n",
    "* Mit einer For Loop soll dann die Anfrage für alle 30.000 Monographien der Bibliothek durchgeführt werden.\n",
    "* Zur weiteren kollaborativen Bearbeitung (mit MS Office 365) wird eine csv- und dann eine Excel-Datei erstellt. Nicht zuletzt wegen der besseren Ansicht für die Bearbeiter_innen.\n",
    "\n",
    "## Ziel\n",
    "Die Vergabe von Schlagwörtern und Notationen soll somit automatisiert werden, um die Umsystematisierung der beteiligten Mitarbeiterinnen und Mitarbeiter zu erleichtern. RVK-Notationen und Schlagwörter könnten somit zunächst maschinell und ggfls. intellektuell erfasst werden.\n",
    "\n",
    "Quellen\n",
    "[^1]: Python Requests: Schnellstart. URL: https://2.python-requests.org//de/latest/user/quickstart.html [letzter Zugriff: 09.07.2019]"
   ]
  },
  {
   "cell_type": "markdown",
   "metadata": {},
   "source": [
    "# Schritt 1\n",
    "* Vorarbeit: Ermitteln des umzusystematisierenden Bestands mit SQL-Befehl, Ausgabe: csv-Datei  \n",
    "* sortiert nach Spalten (Signaturen, Mediennummern, Kurztitel, Autor, Reihentitel, ISBN, neue Notation, neue Schlagwörter, neue Gesamtsignatur)  \n",
    "* Signaturen numerisch aufsteigend sortieren mit zuvor geschriebenem Excel-Makro (statt P1, P10, P100 > P1, P2, P3 ...)\n",
    "* csv-Datei wird auf minimale Informationen reduziert  \n",
    "* im Folgenden wird das Skript für eine Liste von 15 ISBN/Titeln getestet.  "
   ]
  },
  {
   "cell_type": "code",
   "execution_count": 50,
   "metadata": {},
   "outputs": [],
   "source": [
    "# pandas wird als „pd“ abgekürzt\n",
    "import urllib.request\n",
    "import pandas as pd"
   ]
  },
  {
   "cell_type": "code",
   "execution_count": 51,
   "metadata": {},
   "outputs": [],
   "source": [
    "# url stammt aus github (hier entsteht eine Fehlermeldung, wenn die url nicht frisch generiert wird, da das Repositorium privat ist!)\n",
    "# so wird der Ordner benannt, der dann auch hier sichtbar wird\n",
    "url = \"https://raw.githubusercontent.com/adalka/Malis18_T9.2_Automatisierte_Schlagwort_RVK-Notationsvergabe/master/2019-07-09_P1000_sortiert_mit_ISBN_Exnr.csv\"\n",
    "apc_file = \"2019-07-09_P1000_sortiert_mit_ISBN_Exnr.csv\""
   ]
  },
  {
   "cell_type": "code",
   "execution_count": 52,
   "metadata": {},
   "outputs": [
    {
     "data": {
      "text/plain": [
       "('2019-07-09_P1000_sortiert_mit_ISBN_Exnr.csv',\n",
       " <http.client.HTTPMessage at 0x27b0be27860>)"
      ]
     },
     "execution_count": 52,
     "metadata": {},
     "output_type": "execute_result"
    }
   ],
   "source": [
    "# Befehl: Datei runterladen \n",
    "urllib.request.urlretrieve(url, apc_file)"
   ]
  },
  {
   "cell_type": "code",
   "execution_count": 53,
   "metadata": {},
   "outputs": [
    {
     "name": "stdout",
     "output_type": "stream",
     "text": [
      "EXEMPLARNR,ISBN\n",
      "\n",
      "1586749001,FALSE\n",
      "\n",
      "1586750001,FALSE\n",
      "\n",
      "1586751001,FALSE\n",
      "\n",
      "1586752001,FALSE\n",
      "\n",
      "1586754001,3-85460-115-8\n",
      "\n",
      "1586755001,3-85460-111-5\n",
      "\n",
      "213682005,FALSE\n",
      "\n",
      "1586757001,91-7192-927-4\n",
      "\n",
      "1586758001,3-88609-200-3\n",
      "\n",
      "1586759001,0-521-23742-4\n",
      "\n",
      "1586765001,3-496-02548-4\n",
      "\n",
      "1586768001,3-496-02550-6\n",
      "\n",
      "1586932001,FALSE\n",
      "\n",
      "503274002,3-87065-560-7\n",
      "\n",
      "1586936001,3-8053-1537-6\n",
      "\n"
     ]
    }
   ],
   "source": [
    "# csv-Datei wird Zeile für Zeile ausgegeben\n",
    "for line in open(apc_file):\n",
    "    print(line)"
   ]
  },
  {
   "cell_type": "code",
   "execution_count": 54,
   "metadata": {},
   "outputs": [],
   "source": [
    "# apcs = neue Variable, pd= Pandas, read=zeigt an; nur Dateiname muss angegeben werden; Data-Frames werden generiert\n",
    "apcs = pd.read_csv(apc_file)"
   ]
  },
  {
   "cell_type": "code",
   "execution_count": 55,
   "metadata": {},
   "outputs": [
    {
     "name": "stdout",
     "output_type": "stream",
     "text": [
      "    EXEMPLARNR           ISBN\n",
      "0   1586749001          FALSE\n",
      "1   1586750001          FALSE\n",
      "2   1586751001          FALSE\n",
      "3   1586752001          FALSE\n",
      "4   1586754001  3-85460-115-8\n",
      "5   1586755001  3-85460-111-5\n",
      "6    213682005          FALSE\n",
      "7   1586757001  91-7192-927-4\n",
      "8   1586758001  3-88609-200-3\n",
      "9   1586759001  0-521-23742-4\n",
      "10  1586765001  3-496-02548-4\n",
      "11  1586768001  3-496-02550-6\n",
      "12  1586932001          FALSE\n",
      "13   503274002  3-87065-560-7\n",
      "14  1586936001  3-8053-1537-6\n"
     ]
    },
    {
     "data": {
      "text/html": [
       "<div>\n",
       "<style scoped>\n",
       "    .dataframe tbody tr th:only-of-type {\n",
       "        vertical-align: middle;\n",
       "    }\n",
       "\n",
       "    .dataframe tbody tr th {\n",
       "        vertical-align: top;\n",
       "    }\n",
       "\n",
       "    .dataframe thead th {\n",
       "        text-align: right;\n",
       "    }\n",
       "</style>\n",
       "<table border=\"1\" class=\"dataframe\">\n",
       "  <thead>\n",
       "    <tr style=\"text-align: right;\">\n",
       "      <th></th>\n",
       "      <th>EXEMPLARNR</th>\n",
       "      <th>ISBN</th>\n",
       "    </tr>\n",
       "  </thead>\n",
       "  <tbody>\n",
       "    <tr>\n",
       "      <th>0</th>\n",
       "      <td>1586749001</td>\n",
       "      <td>FALSE</td>\n",
       "    </tr>\n",
       "    <tr>\n",
       "      <th>1</th>\n",
       "      <td>1586750001</td>\n",
       "      <td>FALSE</td>\n",
       "    </tr>\n",
       "    <tr>\n",
       "      <th>2</th>\n",
       "      <td>1586751001</td>\n",
       "      <td>FALSE</td>\n",
       "    </tr>\n",
       "    <tr>\n",
       "      <th>3</th>\n",
       "      <td>1586752001</td>\n",
       "      <td>FALSE</td>\n",
       "    </tr>\n",
       "    <tr>\n",
       "      <th>4</th>\n",
       "      <td>1586754001</td>\n",
       "      <td>3-85460-115-8</td>\n",
       "    </tr>\n",
       "  </tbody>\n",
       "</table>\n",
       "</div>"
      ],
      "text/plain": [
       "   EXEMPLARNR           ISBN\n",
       "0  1586749001          FALSE\n",
       "1  1586750001          FALSE\n",
       "2  1586751001          FALSE\n",
       "3  1586752001          FALSE\n",
       "4  1586754001  3-85460-115-8"
      ]
     },
     "execution_count": 55,
     "metadata": {},
     "output_type": "execute_result"
    }
   ],
   "source": [
    "# print = zeigt alles an\n",
    "print(apcs)\n",
    "apcs.head()"
   ]
  },
  {
   "cell_type": "code",
   "execution_count": 56,
   "metadata": {},
   "outputs": [
    {
     "data": {
      "text/html": [
       "<div>\n",
       "<style scoped>\n",
       "    .dataframe tbody tr th:only-of-type {\n",
       "        vertical-align: middle;\n",
       "    }\n",
       "\n",
       "    .dataframe tbody tr th {\n",
       "        vertical-align: top;\n",
       "    }\n",
       "\n",
       "    .dataframe thead th {\n",
       "        text-align: right;\n",
       "    }\n",
       "</style>\n",
       "<table border=\"1\" class=\"dataframe\">\n",
       "  <thead>\n",
       "    <tr style=\"text-align: right;\">\n",
       "      <th></th>\n",
       "      <th>EXEMPLARNR</th>\n",
       "      <th>ISBN</th>\n",
       "    </tr>\n",
       "  </thead>\n",
       "  <tbody>\n",
       "    <tr>\n",
       "      <th>0</th>\n",
       "      <td>1586749001</td>\n",
       "      <td>FALSE</td>\n",
       "    </tr>\n",
       "    <tr>\n",
       "      <th>1</th>\n",
       "      <td>1586750001</td>\n",
       "      <td>FALSE</td>\n",
       "    </tr>\n",
       "    <tr>\n",
       "      <th>2</th>\n",
       "      <td>1586751001</td>\n",
       "      <td>FALSE</td>\n",
       "    </tr>\n",
       "    <tr>\n",
       "      <th>3</th>\n",
       "      <td>1586752001</td>\n",
       "      <td>FALSE</td>\n",
       "    </tr>\n",
       "    <tr>\n",
       "      <th>4</th>\n",
       "      <td>1586754001</td>\n",
       "      <td>3-85460-115-8</td>\n",
       "    </tr>\n",
       "  </tbody>\n",
       "</table>\n",
       "</div>"
      ],
      "text/plain": [
       "   EXEMPLARNR           ISBN\n",
       "0  1586749001          FALSE\n",
       "1  1586750001          FALSE\n",
       "2  1586751001          FALSE\n",
       "3  1586752001          FALSE\n",
       "4  1586754001  3-85460-115-8"
      ]
     },
     "execution_count": 56,
     "metadata": {},
     "output_type": "execute_result"
    }
   ],
   "source": [
    "apcs\n",
    "apcs.head()"
   ]
  },
  {
   "cell_type": "code",
   "execution_count": 57,
   "metadata": {},
   "outputs": [
    {
     "data": {
      "text/html": [
       "<div>\n",
       "<style scoped>\n",
       "    .dataframe tbody tr th:only-of-type {\n",
       "        vertical-align: middle;\n",
       "    }\n",
       "\n",
       "    .dataframe tbody tr th {\n",
       "        vertical-align: top;\n",
       "    }\n",
       "\n",
       "    .dataframe thead th {\n",
       "        text-align: right;\n",
       "    }\n",
       "</style>\n",
       "<table border=\"1\" class=\"dataframe\">\n",
       "  <thead>\n",
       "    <tr style=\"text-align: right;\">\n",
       "      <th></th>\n",
       "      <th>EXEMPLARNR</th>\n",
       "      <th>ISBN</th>\n",
       "    </tr>\n",
       "  </thead>\n",
       "  <tbody>\n",
       "    <tr>\n",
       "      <th>0</th>\n",
       "      <td>1586749001</td>\n",
       "      <td>FALSE</td>\n",
       "    </tr>\n",
       "    <tr>\n",
       "      <th>1</th>\n",
       "      <td>1586750001</td>\n",
       "      <td>FALSE</td>\n",
       "    </tr>\n",
       "    <tr>\n",
       "      <th>2</th>\n",
       "      <td>1586751001</td>\n",
       "      <td>FALSE</td>\n",
       "    </tr>\n",
       "    <tr>\n",
       "      <th>3</th>\n",
       "      <td>1586752001</td>\n",
       "      <td>FALSE</td>\n",
       "    </tr>\n",
       "    <tr>\n",
       "      <th>4</th>\n",
       "      <td>1586754001</td>\n",
       "      <td>3-85460-115-8</td>\n",
       "    </tr>\n",
       "  </tbody>\n",
       "</table>\n",
       "</div>"
      ],
      "text/plain": [
       "   EXEMPLARNR           ISBN\n",
       "0  1586749001          FALSE\n",
       "1  1586750001          FALSE\n",
       "2  1586751001          FALSE\n",
       "3  1586752001          FALSE\n",
       "4  1586754001  3-85460-115-8"
      ]
     },
     "execution_count": 57,
     "metadata": {},
     "output_type": "execute_result"
    }
   ],
   "source": [
    "# Spalten sollen angezeigt werden\n",
    "apcs.columns\n",
    "apcs.head()"
   ]
  },
  {
   "cell_type": "code",
   "execution_count": 58,
   "metadata": {},
   "outputs": [
    {
     "data": {
      "text/html": [
       "<div>\n",
       "<style scoped>\n",
       "    .dataframe tbody tr th:only-of-type {\n",
       "        vertical-align: middle;\n",
       "    }\n",
       "\n",
       "    .dataframe tbody tr th {\n",
       "        vertical-align: top;\n",
       "    }\n",
       "\n",
       "    .dataframe thead th {\n",
       "        text-align: right;\n",
       "    }\n",
       "</style>\n",
       "<table border=\"1\" class=\"dataframe\">\n",
       "  <thead>\n",
       "    <tr style=\"text-align: right;\">\n",
       "      <th></th>\n",
       "      <th>EXEMPLARNR</th>\n",
       "      <th>ISBN</th>\n",
       "    </tr>\n",
       "  </thead>\n",
       "  <tbody>\n",
       "    <tr>\n",
       "      <th>0</th>\n",
       "      <td>1586749001</td>\n",
       "      <td>FALSE</td>\n",
       "    </tr>\n",
       "    <tr>\n",
       "      <th>1</th>\n",
       "      <td>1586750001</td>\n",
       "      <td>FALSE</td>\n",
       "    </tr>\n",
       "    <tr>\n",
       "      <th>2</th>\n",
       "      <td>1586751001</td>\n",
       "      <td>FALSE</td>\n",
       "    </tr>\n",
       "    <tr>\n",
       "      <th>3</th>\n",
       "      <td>1586752001</td>\n",
       "      <td>FALSE</td>\n",
       "    </tr>\n",
       "    <tr>\n",
       "      <th>4</th>\n",
       "      <td>1586754001</td>\n",
       "      <td>3-85460-115-8</td>\n",
       "    </tr>\n",
       "  </tbody>\n",
       "</table>\n",
       "</div>"
      ],
      "text/plain": [
       "   EXEMPLARNR           ISBN\n",
       "0  1586749001          FALSE\n",
       "1  1586750001          FALSE\n",
       "2  1586751001          FALSE\n",
       "3  1586752001          FALSE\n",
       "4  1586754001  3-85460-115-8"
      ]
     },
     "execution_count": 58,
     "metadata": {},
     "output_type": "execute_result"
    }
   ],
   "source": [
    "# nur ISBN sollen gezeigt werden\n",
    "apcs.ISBN\n",
    "apcs.head()"
   ]
  },
  {
   "cell_type": "code",
   "execution_count": 59,
   "metadata": {},
   "outputs": [
    {
     "name": "stdout",
     "output_type": "stream",
     "text": [
      "http://data.bib.uni-mannheim.de/malibu/isbn/gbv.php?isbn=ISBN&format=json\n",
      "http://data.bib.uni-mannheim.de/malibu/isbn/gbv.php?isbn=FALSE&format=json\n",
      "http://data.bib.uni-mannheim.de/malibu/isbn/gbv.php?isbn=FALSE&format=json\n",
      "http://data.bib.uni-mannheim.de/malibu/isbn/gbv.php?isbn=FALSE&format=json\n",
      "http://data.bib.uni-mannheim.de/malibu/isbn/gbv.php?isbn=FALSE&format=json\n",
      "http://data.bib.uni-mannheim.de/malibu/isbn/gbv.php?isbn=3-85460-115-8&format=json\n",
      "http://data.bib.uni-mannheim.de/malibu/isbn/gbv.php?isbn=3-85460-111-5&format=json\n",
      "http://data.bib.uni-mannheim.de/malibu/isbn/gbv.php?isbn=FALSE&format=json\n",
      "http://data.bib.uni-mannheim.de/malibu/isbn/gbv.php?isbn=91-7192-927-4&format=json\n",
      "http://data.bib.uni-mannheim.de/malibu/isbn/gbv.php?isbn=3-88609-200-3&format=json\n",
      "http://data.bib.uni-mannheim.de/malibu/isbn/gbv.php?isbn=0-521-23742-4&format=json\n",
      "http://data.bib.uni-mannheim.de/malibu/isbn/gbv.php?isbn=3-496-02548-4&format=json\n",
      "http://data.bib.uni-mannheim.de/malibu/isbn/gbv.php?isbn=3-496-02550-6&format=json\n",
      "http://data.bib.uni-mannheim.de/malibu/isbn/gbv.php?isbn=FALSE&format=json\n",
      "http://data.bib.uni-mannheim.de/malibu/isbn/gbv.php?isbn=3-87065-560-7&format=json\n",
      "http://data.bib.uni-mannheim.de/malibu/isbn/gbv.php?isbn=3-8053-1537-6&format=json\n"
     ]
    }
   ],
   "source": [
    "import csv\n",
    "with open('2019-07-09_P1000_sortiert_mit_ISBN_Exnr.csv', newline='') as f:    \n",
    "    reader = csv.reader(f)\n",
    "    for row in reader:\n",
    "        url = \"http://data.bib.uni-mannheim.de/malibu/isbn/gbv.php?isbn=\" + str(row[1]) + \"&format=json\"  \n",
    "        print(url)"
   ]
  },
  {
   "cell_type": "markdown",
   "metadata": {},
   "source": [
    "# SWB\n",
    "(Südwestdeutscher Bibliotheksverbund)  \n",
    "Nun auch für den SWB (Südwestdeutscher Bibliotheksverbund Baden-Württemberg, Saarland, Sachsen) durchführen mithilfe von http://data.bib.uni-mannheim.de/malibu/isbn/swb.php?isbn= &format=json:"
   ]
  },
  {
   "cell_type": "code",
   "execution_count": 60,
   "metadata": {},
   "outputs": [
    {
     "name": "stdout",
     "output_type": "stream",
     "text": [
      "http://data.bib.uni-mannheim.de/malibu/isbn/swb.php?isbn=ISBN&format=json\n",
      "http://data.bib.uni-mannheim.de/malibu/isbn/swb.php?isbn=FALSE&format=json\n",
      "http://data.bib.uni-mannheim.de/malibu/isbn/swb.php?isbn=FALSE&format=json\n",
      "http://data.bib.uni-mannheim.de/malibu/isbn/swb.php?isbn=FALSE&format=json\n",
      "http://data.bib.uni-mannheim.de/malibu/isbn/swb.php?isbn=FALSE&format=json\n",
      "http://data.bib.uni-mannheim.de/malibu/isbn/swb.php?isbn=3-85460-115-8&format=json\n",
      "http://data.bib.uni-mannheim.de/malibu/isbn/swb.php?isbn=3-85460-111-5&format=json\n",
      "http://data.bib.uni-mannheim.de/malibu/isbn/swb.php?isbn=FALSE&format=json\n",
      "http://data.bib.uni-mannheim.de/malibu/isbn/swb.php?isbn=91-7192-927-4&format=json\n",
      "http://data.bib.uni-mannheim.de/malibu/isbn/swb.php?isbn=3-88609-200-3&format=json\n",
      "http://data.bib.uni-mannheim.de/malibu/isbn/swb.php?isbn=0-521-23742-4&format=json\n",
      "http://data.bib.uni-mannheim.de/malibu/isbn/swb.php?isbn=3-496-02548-4&format=json\n",
      "http://data.bib.uni-mannheim.de/malibu/isbn/swb.php?isbn=3-496-02550-6&format=json\n",
      "http://data.bib.uni-mannheim.de/malibu/isbn/swb.php?isbn=FALSE&format=json\n",
      "http://data.bib.uni-mannheim.de/malibu/isbn/swb.php?isbn=3-87065-560-7&format=json\n",
      "http://data.bib.uni-mannheim.de/malibu/isbn/swb.php?isbn=3-8053-1537-6&format=json\n"
     ]
    }
   ],
   "source": [
    "import csv\n",
    "with open('2019-07-09_P1000_sortiert_mit_ISBN_Exnr.csv', newline='') as f:    \n",
    "    reader = csv.reader(f)\n",
    "    for row in reader:\n",
    "        url = \"http://data.bib.uni-mannheim.de/malibu/isbn/swb.php?isbn=\" + str(row[1]) + \"&format=json\"  \n",
    "        print(url)"
   ]
  },
  {
   "cell_type": "markdown",
   "metadata": {},
   "source": [
    "# B3Kat\n",
    "(gemeinsame Katalogisierungsplattform der Bibliotheksverbünde BVB und KOBV)  \n",
    "Nun auch für den B3Kat durchführen mithilfe von http://data.bib.uni-mannheim.de/malibu/isbn/b3kat.php?isbn= &format=json:"
   ]
  },
  {
   "cell_type": "code",
   "execution_count": 61,
   "metadata": {},
   "outputs": [
    {
     "name": "stdout",
     "output_type": "stream",
     "text": [
      "http://data.bib.uni-mannheim.de/malibu/isbn/b3kat.php?isbn=ISBN&format=json\n",
      "http://data.bib.uni-mannheim.de/malibu/isbn/b3kat.php?isbn=FALSE&format=json\n",
      "http://data.bib.uni-mannheim.de/malibu/isbn/b3kat.php?isbn=FALSE&format=json\n",
      "http://data.bib.uni-mannheim.de/malibu/isbn/b3kat.php?isbn=FALSE&format=json\n",
      "http://data.bib.uni-mannheim.de/malibu/isbn/b3kat.php?isbn=FALSE&format=json\n",
      "http://data.bib.uni-mannheim.de/malibu/isbn/b3kat.php?isbn=3-85460-115-8&format=json\n",
      "http://data.bib.uni-mannheim.de/malibu/isbn/b3kat.php?isbn=3-85460-111-5&format=json\n",
      "http://data.bib.uni-mannheim.de/malibu/isbn/b3kat.php?isbn=FALSE&format=json\n",
      "http://data.bib.uni-mannheim.de/malibu/isbn/b3kat.php?isbn=91-7192-927-4&format=json\n",
      "http://data.bib.uni-mannheim.de/malibu/isbn/b3kat.php?isbn=3-88609-200-3&format=json\n",
      "http://data.bib.uni-mannheim.de/malibu/isbn/b3kat.php?isbn=0-521-23742-4&format=json\n",
      "http://data.bib.uni-mannheim.de/malibu/isbn/b3kat.php?isbn=3-496-02548-4&format=json\n",
      "http://data.bib.uni-mannheim.de/malibu/isbn/b3kat.php?isbn=3-496-02550-6&format=json\n",
      "http://data.bib.uni-mannheim.de/malibu/isbn/b3kat.php?isbn=FALSE&format=json\n",
      "http://data.bib.uni-mannheim.de/malibu/isbn/b3kat.php?isbn=3-87065-560-7&format=json\n",
      "http://data.bib.uni-mannheim.de/malibu/isbn/b3kat.php?isbn=3-8053-1537-6&format=json\n"
     ]
    }
   ],
   "source": [
    "import csv\n",
    "with open('2019-07-09_P1000_sortiert_mit_ISBN_Exnr.csv', newline='') as f:    \n",
    "    reader = csv.reader(f)\n",
    "    for row in reader:\n",
    "        url = \"http://data.bib.uni-mannheim.de/malibu/isbn/b3kat.php?isbn=\" + str(row[1]) + \"&format=json\"  \n",
    "        print(url)"
   ]
  },
  {
   "cell_type": "markdown",
   "metadata": {},
   "source": [
    "# HeBIS\n",
    "(Hessisches BibliotheksInformationsSystem)  \n",
    "Nun auch für den HeBIS durchführen mithilfe von http://data.bib.uni-mannheim.de/malibu/isbn/hebis.php?isbn= &format=json:"
   ]
  },
  {
   "cell_type": "code",
   "execution_count": 62,
   "metadata": {},
   "outputs": [
    {
     "name": "stdout",
     "output_type": "stream",
     "text": [
      "http://data.bib.uni-mannheim.de/malibu/isbn/hebis.php?isbn=ISBN&format=json\n",
      "http://data.bib.uni-mannheim.de/malibu/isbn/hebis.php?isbn=FALSE&format=json\n",
      "http://data.bib.uni-mannheim.de/malibu/isbn/hebis.php?isbn=FALSE&format=json\n",
      "http://data.bib.uni-mannheim.de/malibu/isbn/hebis.php?isbn=FALSE&format=json\n",
      "http://data.bib.uni-mannheim.de/malibu/isbn/hebis.php?isbn=FALSE&format=json\n",
      "http://data.bib.uni-mannheim.de/malibu/isbn/hebis.php?isbn=3-85460-115-8&format=json\n",
      "http://data.bib.uni-mannheim.de/malibu/isbn/hebis.php?isbn=3-85460-111-5&format=json\n",
      "http://data.bib.uni-mannheim.de/malibu/isbn/hebis.php?isbn=FALSE&format=json\n",
      "http://data.bib.uni-mannheim.de/malibu/isbn/hebis.php?isbn=91-7192-927-4&format=json\n",
      "http://data.bib.uni-mannheim.de/malibu/isbn/hebis.php?isbn=3-88609-200-3&format=json\n",
      "http://data.bib.uni-mannheim.de/malibu/isbn/hebis.php?isbn=0-521-23742-4&format=json\n",
      "http://data.bib.uni-mannheim.de/malibu/isbn/hebis.php?isbn=3-496-02548-4&format=json\n",
      "http://data.bib.uni-mannheim.de/malibu/isbn/hebis.php?isbn=3-496-02550-6&format=json\n",
      "http://data.bib.uni-mannheim.de/malibu/isbn/hebis.php?isbn=FALSE&format=json\n",
      "http://data.bib.uni-mannheim.de/malibu/isbn/hebis.php?isbn=3-87065-560-7&format=json\n",
      "http://data.bib.uni-mannheim.de/malibu/isbn/hebis.php?isbn=3-8053-1537-6&format=json\n"
     ]
    }
   ],
   "source": [
    "import csv\n",
    "with open('2019-07-09_P1000_sortiert_mit_ISBN_Exnr.csv', newline='') as f:    \n",
    "    reader = csv.reader(f)\n",
    "    for row in reader:\n",
    "        url = \"http://data.bib.uni-mannheim.de/malibu/isbn/hebis.php?isbn=\" + str(row[1]) + \"&format=json\"  \n",
    "        print(url)"
   ]
  },
  {
   "cell_type": "markdown",
   "metadata": {},
   "source": [
    "# HBZ \n",
    "(Hochschulbibliothekszentrum NRW)  \n",
    "Nun auch für das hbz durchführen mithilfe von http://data.bib.uni-mannheim.de/malibu/isbn/hbz.php?isbn= &format=json:"
   ]
  },
  {
   "cell_type": "code",
   "execution_count": 63,
   "metadata": {},
   "outputs": [
    {
     "name": "stdout",
     "output_type": "stream",
     "text": [
      "http://data.bib.uni-mannheim.de/malibu/isbn/hbz.php?isbn=ISBN&format=json\n",
      "http://data.bib.uni-mannheim.de/malibu/isbn/hbz.php?isbn=FALSE&format=json\n",
      "http://data.bib.uni-mannheim.de/malibu/isbn/hbz.php?isbn=FALSE&format=json\n",
      "http://data.bib.uni-mannheim.de/malibu/isbn/hbz.php?isbn=FALSE&format=json\n",
      "http://data.bib.uni-mannheim.de/malibu/isbn/hbz.php?isbn=FALSE&format=json\n",
      "http://data.bib.uni-mannheim.de/malibu/isbn/hbz.php?isbn=3-85460-115-8&format=json\n",
      "http://data.bib.uni-mannheim.de/malibu/isbn/hbz.php?isbn=3-85460-111-5&format=json\n",
      "http://data.bib.uni-mannheim.de/malibu/isbn/hbz.php?isbn=FALSE&format=json\n",
      "http://data.bib.uni-mannheim.de/malibu/isbn/hbz.php?isbn=91-7192-927-4&format=json\n",
      "http://data.bib.uni-mannheim.de/malibu/isbn/hbz.php?isbn=3-88609-200-3&format=json\n",
      "http://data.bib.uni-mannheim.de/malibu/isbn/hbz.php?isbn=0-521-23742-4&format=json\n",
      "http://data.bib.uni-mannheim.de/malibu/isbn/hbz.php?isbn=3-496-02548-4&format=json\n",
      "http://data.bib.uni-mannheim.de/malibu/isbn/hbz.php?isbn=3-496-02550-6&format=json\n",
      "http://data.bib.uni-mannheim.de/malibu/isbn/hbz.php?isbn=FALSE&format=json\n",
      "http://data.bib.uni-mannheim.de/malibu/isbn/hbz.php?isbn=3-87065-560-7&format=json\n",
      "http://data.bib.uni-mannheim.de/malibu/isbn/hbz.php?isbn=3-8053-1537-6&format=json\n"
     ]
    }
   ],
   "source": [
    "import csv\n",
    "with open('2019-07-09_P1000_sortiert_mit_ISBN_Exnr.csv', newline='') as f:    \n",
    "    reader = csv.reader(f)\n",
    "    for row in reader:\n",
    "        url = \"http://data.bib.uni-mannheim.de/malibu/isbn/hbz.php?isbn=\" + str(row[1]) + \"&format=json\"  \n",
    "        print(url)"
   ]
  },
  {
   "cell_type": "markdown",
   "metadata": {},
   "source": [
    "# Schritt 2: Werte aus URL in JSON beziehen\n",
    "- RVK-Notationen können importiert werden, \n",
    "    z.B. über =ImportJSON(\"http://data.bib.uni-mannheim.de/malibu/isbn/swb.php?isbn=\"ISBN\"&format=json\"; \"/rvk\"; \"noHeaders\")  \n",
    "- Befehl ausführen: JSON-basierte Antwortdaten (s. https://2.python-requests.org//de/latest/user/quickstart.html)  "
   ]
  },
  {
   "cell_type": "code",
   "execution_count": 64,
   "metadata": {},
   "outputs": [
    {
     "data": {
      "text/plain": [
       "{'id': ['316021121'],\n",
       " 'isbn': ['3854601158'],\n",
       " 'dnbNr': '',\n",
       " 'oclcNr': ['165236530'],\n",
       " 'titel': ['Sie sahen die Mauern Trojas'],\n",
       " 'untertitel': ['Kunstgewerbe der Bronzezeit in Südostungarn : Sonderausstellung im Museum für Urgeschichte, Aspern/Zaya, 1. April - 15. Nov. 1994'],\n",
       " 'autor': ['Otto Trogmayer, Gabriella Vörös'],\n",
       " 'gesamttitel': ['Katalog des Niederösterreichischen Landesmuseums N.F. 348'],\n",
       " 'hochschulvermerk': '',\n",
       " 'auflage': '',\n",
       " 'erscheinungsinfo': ['Aspern/Zaya', 'Museum für Urgeschichte', '1994'],\n",
       " 'umfang': ['34 Seiten', 'Illustrationen'],\n",
       " 'links': '',\n",
       " 'bestand': ['ZK Sachsen Anhalt',\n",
       "  'SUB+Uni Hamburg <18>',\n",
       "  'ULB Halle <3>',\n",
       "  'LDA Halle <Ha 91>',\n",
       "  'PKB (Museen) Berlin',\n",
       "  'Museen+Denkmalschutzamt HH'],\n",
       " 'rvk': ['NF 1665'],\n",
       " 'ddc': '',\n",
       " 'sw': [],\n",
       " 'produktSigel': '',\n",
       " 'einzelaufnahmen': [{'id': ['316021121'],\n",
       "   'isbn': ['3854601158'],\n",
       "   'dnbNr': '',\n",
       "   'oclcNr': ['165236530'],\n",
       "   'titel': ['Sie sahen die Mauern Trojas'],\n",
       "   'untertitel': ['Kunstgewerbe der Bronzezeit in Südostungarn : Sonderausstellung im Museum für Urgeschichte, Aspern/Zaya, 1. April - 15. Nov. 1994'],\n",
       "   'autor': ['Otto Trogmayer, Gabriella Vörös'],\n",
       "   'gesamttitel': ['Katalog des Niederösterreichischen Landesmuseums N.F. 348'],\n",
       "   'hochschulvermerk': '',\n",
       "   'auflage': '',\n",
       "   'erscheinungsinfo': ['Aspern/Zaya', 'Museum für Urgeschichte', '1994'],\n",
       "   'umfang': ['34 Seiten', 'Illustrationen'],\n",
       "   'links': '',\n",
       "   'bestand': ['ZK Sachsen Anhalt',\n",
       "    'SUB+Uni Hamburg <18>',\n",
       "    'ULB Halle <3>',\n",
       "    'LDA Halle <Ha 91>',\n",
       "    'PKB (Museen) Berlin',\n",
       "    'Museen+Denkmalschutzamt HH'],\n",
       "   'rvk': ['NF 1665'],\n",
       "   'ddc': '',\n",
       "   'sw': [],\n",
       "   'produktSigel': ''}]}"
      ]
     },
     "execution_count": 64,
     "metadata": {},
     "output_type": "execute_result"
    }
   ],
   "source": [
    "# http-Anforderung senden, um request-Modul zu importieren\n",
    "# r = response, wir bekommen ein object response im JSON-Format (s. https://2.python-requests.org//de/latest/user/quickstart.html)\n",
    "# dies wird nun mit der ersten in der Liste stehenden ISBN beispielhaft getestet:\n",
    "\n",
    "import requests\n",
    "r = requests.get('http://data.bib.uni-mannheim.de/malibu/isbn/gbv.php?isbn=3-85460-115-8&format=json')\n",
    "r.json()"
   ]
  },
  {
   "cell_type": "code",
   "execution_count": 65,
   "metadata": {},
   "outputs": [
    {
     "name": "stdout",
     "output_type": "stream",
     "text": [
      "NF 1665\n"
     ]
    }
   ],
   "source": [
    "# Wie lautet die RVK-Notation für einen bestimmten String? (s. https://www.w3schools.com/python/python_json.asp)\n",
    "# Bilden von Variablen (x= RVK+Notation, y= Notation)\n",
    "\n",
    "import json\n",
    "x = '{ \"rvk\":\"NF 1665\"}'\n",
    "y = json.loads(x)\n",
    "print(y[\"rvk\"])"
   ]
  },
  {
   "cell_type": "code",
   "execution_count": 66,
   "metadata": {},
   "outputs": [],
   "source": [
    "# Weiter oben wurde die ISBN testweise händisch eingegeben. So sieht der Befehl mit einem string aus (vgl. https://automatetheboringstuff.com/chapter6/):\n",
    "url = \"http://data.bib.uni-mannheim.de/malibu/isbn/hbz.php?isbn=\" \n",
    "isbn = str(row[1])\n",
    "end = \"&format=json\""
   ]
  },
  {
   "cell_type": "code",
   "execution_count": 67,
   "metadata": {},
   "outputs": [
    {
     "name": "stdout",
     "output_type": "stream",
     "text": [
      "http://data.bib.uni-mannheim.de/malibu/isbn/hbz.php?isbn=/3-8053-1537-6/&format=json\n"
     ]
    }
   ],
   "source": [
    "print(\"{}/{}/{}\".format(url, isbn, end))"
   ]
  },
  {
   "cell_type": "code",
   "execution_count": 68,
   "metadata": {},
   "outputs": [
    {
     "data": {
      "text/plain": [
       "'http://data.bib.uni-mannheim.de/malibu/isbn/hbz.php?isbn=/3-8053-1537-6/&format=json'"
      ]
     },
     "execution_count": 68,
     "metadata": {},
     "output_type": "execute_result"
    }
   ],
   "source": [
    "f\"{url}/{isbn}/{end}\""
   ]
  },
  {
   "cell_type": "markdown",
   "metadata": {},
   "source": [
    "# Schritt 3:\n",
    "Dies für alle JSON-Strings (mit allen ISBN und den jeweils vergebenen RVK-Notationen für alle Verbünde) durchführen.\n",
    "Mögliches Vorgehen:  \n",
    "* Wie ist eine RVK-Notation aufgebaut? Wie viele Zeichen hat eine RVK-Notation? \n",
    "* Sie setzt sich aus 1) aus 2 Buchstaben zusammen; 2) einem Leerzeichen; 3) es folgen zwischen 3 und 5 Ziffern\n",
    "* Hierfür könnte mit einem regulären Ausdruck gearbeitet werden:  \n",
    "* 1) 2 Buchstaben zwisch a bis z [a-z], 2) Leerzeichen wie Tab, Space, ... \\s und 3) 3 bis 5 Zahlen von 0-9: \\d, [0-9]\n",
    "* Die Zahl, die an letzter Stelle steht, ist mindestens 3-stellig und höchstens 5-stellig: {m, n} Der Ausdruck kommt mindestens m-mal, höchstens n-mal vor; z. B. \\w{3, 5} (vgl. https://docs.python.org/2/library/re.html)"
   ]
  },
  {
   "cell_type": "code",
   "execution_count": 69,
   "metadata": {},
   "outputs": [],
   "source": [
    "# regulären Ausdruck importieren\n",
    "import re"
   ]
  },
  {
   "cell_type": "markdown",
   "metadata": {},
   "source": [
    "# Schritt 4:\n",
    "Alle RVK-Notationen für alle ISBN in allen Verbünden in eine csv-Datei exportieren.  \n",
    "    "
   ]
  },
  {
   "cell_type": "code",
   "execution_count": null,
   "metadata": {},
   "outputs": [],
   "source": []
  }
 ],
 "metadata": {
  "kernelspec": {
   "display_name": "Python 3",
   "language": "python",
   "name": "python3"
  },
  "language_info": {
   "codemirror_mode": {
    "name": "ipython",
    "version": 3
   },
   "file_extension": ".py",
   "mimetype": "text/x-python",
   "name": "python",
   "nbconvert_exporter": "python",
   "pygments_lexer": "ipython3",
   "version": "3.7.3"
  }
 },
 "nbformat": 4,
 "nbformat_minor": 2
}
